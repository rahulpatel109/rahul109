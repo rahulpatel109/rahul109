{
 "cells": [
  {
   "cell_type": "code",
   "execution_count": 3,
   "id": "22c13ff2-f50f-406c-bb27-858d7ff73187",
   "metadata": {},
   "outputs": [
    {
     "data": {
      "text/plain": [
       "array([[12.62102627,  9.46059907,  9.91271886, 10.03105261],\n",
       "       [ 8.31243942, 12.96580774, 11.39373433,  9.2195994 ],\n",
       "       [12.15477372, 10.32549557,  9.60231163,  8.05435798],\n",
       "       [11.38333573, 10.5361919 , 11.82586079,  9.25673087],\n",
       "       [ 7.76034834, 10.14238169,  9.07453647,  9.64963631],\n",
       "       [ 7.96738829, 11.23310999,  8.68705796, 10.58886107],\n",
       "       [ 9.64200106, 10.81976613,  9.76310871,  8.34527057]])"
      ]
     },
     "execution_count": 3,
     "metadata": {},
     "output_type": "execute_result"
    }
   ],
   "source": [
    "import numpy as np\n",
    "import random\n",
    "np.random.normal(10,2,(7,4))"
   ]
  },
  {
   "cell_type": "code",
   "execution_count": 5,
   "id": "a43593c1-c2d2-48ac-a463-4822a2279a9f",
   "metadata": {},
   "outputs": [
    {
     "data": {
      "text/plain": [
       "array([20, 19, 20, 19, 18, 20, 20, 19, 18, 18, 18, 20, 20, 19, 20, 19, 20,\n",
       "       20, 19, 18, 20, 20, 20, 20, 18, 18, 20, 19, 18, 18, 18, 19, 19, 20,\n",
       "       19, 18, 19, 19, 20, 18, 18, 20, 20, 20, 18, 18, 19, 20, 20, 19, 19,\n",
       "       20, 18, 19, 18, 18, 20, 18, 20, 20, 20, 19, 20, 20, 19, 19, 20, 18,\n",
       "       19, 19, 20, 20, 20, 19, 20, 20, 20, 19, 20, 19, 18, 19, 20, 18, 19,\n",
       "       20, 18, 18, 18, 20, 19, 20, 18, 18, 19, 18, 20, 18, 18, 20])"
      ]
     },
     "execution_count": 5,
     "metadata": {},
     "output_type": "execute_result"
    }
   ],
   "source": [
    "np.random.randint(18,21,100)"
   ]
  },
  {
   "cell_type": "code",
   "execution_count": 13,
   "id": "67867fbb-ec69-4cf5-b34d-79d20a2c9f48",
   "metadata": {},
   "outputs": [
    {
     "data": {
      "text/plain": [
       "[10, 20, 30, 40, 45]"
      ]
     },
     "execution_count": 13,
     "metadata": {},
     "output_type": "execute_result"
    }
   ],
   "source": [
    "a = [10,20,30,40,45]\n",
    "a"
   ]
  },
  {
   "cell_type": "code",
   "execution_count": 23,
   "id": "8ef07dd4-0571-4632-a4a4-8f179ecdd87b",
   "metadata": {},
   "outputs": [
    {
     "data": {
      "text/plain": [
       "[25, 35, 45, 55, 60]"
      ]
     },
     "execution_count": 23,
     "metadata": {},
     "output_type": "execute_result"
    }
   ],
   "source": [
    "for i in range(len(a)):\n",
    "    a[i] = a[i]+5\n",
    "a"
   ]
  },
  {
   "cell_type": "code",
   "execution_count": null,
   "id": "097ee612-8c51-4f7e-8959-0f2eba62364a",
   "metadata": {},
   "outputs": [],
   "source": [
    "a = [10,20,30,40,45]\n",
    "d =[]\n",
    "for i in a:\n",
    "    d.append(i+5)\n",
    "d\n"
   ]
  },
  {
   "cell_type": "code",
   "execution_count": 3,
   "id": "72b77bd6-a52e-4ee2-bd49-32ef7163adaf",
   "metadata": {},
   "outputs": [
    {
     "data": {
      "text/plain": [
       "(36, 4, 9, 81, 49, 25, 64)"
      ]
     },
     "execution_count": 3,
     "metadata": {},
     "output_type": "execute_result"
    }
   ],
   "source": [
    "s = (36,4,9,81,49,25,64)\n",
    "s"
   ]
  },
  {
   "cell_type": "code",
   "execution_count": 11,
   "id": "7399becc-4c60-452d-9923-40422c64ff34",
   "metadata": {},
   "outputs": [
    {
     "data": {
      "text/plain": [
       "[36, 81, 49, 64]"
      ]
     },
     "execution_count": 11,
     "metadata": {},
     "output_type": "execute_result"
    }
   ],
   "source": [
    "l =[]\n",
    "for i in s:\n",
    "    if i>30:\n",
    "        l.append(i)\n",
    "l"
   ]
  },
  {
   "cell_type": "code",
   "execution_count": null,
   "id": "1956d400-c2e4-4d35-8338-056a08fa5276",
   "metadata": {},
   "outputs": [],
   "source": []
  },
  {
   "cell_type": "code",
   "execution_count": null,
   "id": "7d6a8ed7-d8ff-4cce-9d2a-3a65ff93dea9",
   "metadata": {},
   "outputs": [],
   "source": []
  }
 ],
 "metadata": {
  "kernelspec": {
   "display_name": "Python [conda env:base] *",
   "language": "python",
   "name": "conda-base-py"
  },
  "language_info": {
   "codemirror_mode": {
    "name": "ipython",
    "version": 3
   },
   "file_extension": ".py",
   "mimetype": "text/x-python",
   "name": "python",
   "nbconvert_exporter": "python",
   "pygments_lexer": "ipython3",
   "version": "3.12.7"
  }
 },
 "nbformat": 4,
 "nbformat_minor": 5
}
